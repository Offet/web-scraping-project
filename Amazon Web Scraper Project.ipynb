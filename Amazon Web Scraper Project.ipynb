{
 "cells": [
  {
   "cell_type": "code",
   "execution_count": 2,
   "id": "ba7c8766-d539-4b90-a1bc-dca5a114bf97",
   "metadata": {},
   "outputs": [],
   "source": [
    "from bs4 import BeautifulSoup\n",
    "import requests\n",
    "import smtplib\n",
    "import time\n",
    "import datetime"
   ]
  },
  {
   "cell_type": "code",
   "execution_count": 3,
   "id": "7e1ea77e-d185-4d67-aa62-556ea106966f",
   "metadata": {},
   "outputs": [
    {
     "ename": "SyntaxError",
     "evalue": "invalid syntax (3694528054.py, line 6)",
     "output_type": "error",
     "traceback": [
      "\u001b[1;36m  Cell \u001b[1;32mIn[3], line 6\u001b[1;36m\u001b[0m\n\u001b[1;33m    headers = {\"User-Agent\": \"User-Agent\": \"Mozilla/5.0 (Windows NT 10.0; Win64; x64) AppleWebKit/537.36 (KHTML, like Gecko) Chrome/129.0.0.0 Safari/537.36\",\u001b[0m\n\u001b[1;37m                                         ^\u001b[0m\n\u001b[1;31mSyntaxError\u001b[0m\u001b[1;31m:\u001b[0m invalid syntax\n"
     ]
    }
   ],
   "source": [
    "# extract website url and connect to website\n",
    "\n",
    "URL = \"https://www.linkedin.com/in/emmanuellaoffetafoakwah/\"\n",
    "\n",
    "# get thr \n",
    "headers = {\"User-Agent\": \"User-Agent\": \"Mozilla/5.0 (Windows NT 10.0; Win64; x64) AppleWebKit/537.36 (KHTML, like Gecko) Chrome/129.0.0.0 Safari/537.36\", \n",
    "    \"X-Amzn-Trace-Id\": \"Root=1-66f3c225-7daf25867eec8da67a1c4c46\"}\n",
    "\n",
    "page = requests.get(URL, headers=headers)\n",
    "\n",
    "soup1 = BeautifulSoup(page.content, \"html.parser\")\n",
    "\n",
    "print(soup)\n",
    "  "
   ]
  },
  {
   "cell_type": "code",
   "execution_count": 4,
   "id": "342e22a0-680d-4e51-804a-0b8f29a4d2ea",
   "metadata": {},
   "outputs": [
    {
     "name": "stdout",
     "output_type": "stream",
     "text": [
      "Error connecting to website: https://www.linkedin.com/in/emmanuellaoffetafoakwah/ (Status code: 999)\n",
      "Unable to connect to the website.\n"
     ]
    }
   ],
   "source": [
    "# import requests\n",
    "# from bs4 import BeautifulSoup\n",
    "\n",
    "def extract_and_connect_to_website(url):\n",
    "    \"\"\"Extracts website URL and attempts to connect, respecting robots.txt.\n",
    "\n",
    "    Args:\n",
    "        url (str): The URL of the website to connect to.\n",
    "\n",
    "    Returns:\n",
    "        BeautifulSoup object or None: If successful, returns the BeautifulSoup\n",
    "                                     object representing the website content.\n",
    "                                     Otherwise, returns None.\n",
    "    \"\"\"\n",
    "\n",
    "    # Respect robots.txt guidelines\n",
    "    robots_url = f\"{url}/robots.txt\"  # Construct robots.txt URL\n",
    "    robots_response = requests.get(robots_url)\n",
    "\n",
    "    if robots_response.status_code == 200:  # Check if robots.txt is accessible\n",
    "        robots_content = robots_response.text\n",
    "        # Implement logic to parse robots.txt and check for allowed/disallowed paths (exercise for user)\n",
    "        # If disallowed, print a message and return None\n",
    "\n",
    "    # Proceed with connection (if robots.txt allows)\n",
    "    headers = {\n",
    "        \"User-Agent\": \"Mozilla/5.0 (Windows NT 10.0; Win64; x64) AppleWebKit/537.36 (KHTML, like Gecko) Chrome/129.0.0.0 Safari/537.36\"\n",
    "    }\n",
    "    page = requests.get(url, headers=headers)\n",
    "\n",
    "    if page.status_code == 200:\n",
    "        soup = BeautifulSoup(page.content, \"html.parser\")\n",
    "        return soup\n",
    "    else:\n",
    "        print(f\"Error connecting to website: {url} (Status code: {page.status_code})\")\n",
    "        return None\n",
    "\n",
    "# Example usage\n",
    "url = \"https://www.linkedin.com/in/emmanuellaoffetafoakwah/\"\n",
    "soup = extract_and_connect_to_website(url)\n",
    "\n",
    "if soup:\n",
    "    print(soup)  # Print the parsed HTML content (be mindful of scraping limits)\n",
    "else:\n",
    "    print(\"Unable to connect to the website.\")"
   ]
  },
  {
   "cell_type": "code",
   "execution_count": null,
   "id": "a9c30ca6-cbf8-44c2-8c9e-3031638818db",
   "metadata": {},
   "outputs": [],
   "source": []
  }
 ],
 "metadata": {
  "kernelspec": {
   "display_name": "Python 3 (ipykernel)",
   "language": "python",
   "name": "python3"
  },
  "language_info": {
   "codemirror_mode": {
    "name": "ipython",
    "version": 3
   },
   "file_extension": ".py",
   "mimetype": "text/x-python",
   "name": "python",
   "nbconvert_exporter": "python",
   "pygments_lexer": "ipython3",
   "version": "3.10.14"
  }
 },
 "nbformat": 4,
 "nbformat_minor": 5
}
